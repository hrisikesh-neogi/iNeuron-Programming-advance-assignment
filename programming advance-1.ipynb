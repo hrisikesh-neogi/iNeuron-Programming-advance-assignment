{
 "cells": [
  {
   "cell_type": "markdown",
   "metadata": {},
   "source": [
    "   # PYTHON PROGRAMMING ADVANCE ASSIGNMENT 1\n"
   ]
  },
  {
   "cell_type": "markdown",
   "metadata": {},
   "source": [
    "### 1. Write a function that takes a list of lists and returns the value of all of the symbols in it, where each symbol adds or takes something from the total score. Symbol values:\n",
    "\n",
    "    # = 5\n",
    "    O = 3\n",
    "    X = 1\n",
    "    ! = -1\n",
    "    !! = -3\n",
    "    !!! = -5\n"
   ]
  },
  {
   "cell_type": "code",
   "execution_count": 1,
   "metadata": {},
   "outputs": [],
   "source": [
    "def func(a):\n",
    "    sym = {'#':5 , 'O':3, 'X':1 , '!':-1, '!!':-3, '!!!':-5}\n",
    "    a_dictkeys = sym.keys()\n",
    "    a_dictavalues = sym.values()\n",
    "    dic = ['X','O','!','!!','!!!','#']\n",
    "    sumint=[]\n",
    "    sum = 0\n",
    "    for i in a:\n",
    "        if type(i)== list:\n",
    "            for k in i:\n",
    "                if k in a_dictkeys:\n",
    "                    sumint.append(sym[k])\n",
    "    \n",
    "    for i in sumint:\n",
    "                sum+=i\n",
    "    print(sum)\n",
    "                \n"
   ]
  },
  {
   "cell_type": "code",
   "execution_count": 2,
   "metadata": {},
   "outputs": [
    {
     "name": "stdout",
     "output_type": "stream",
     "text": [
      "exm1**\n",
      "2\n",
      "exm2**\n",
      "-1\n",
      "exm3**\n",
      "0\n",
      "exm4**\n",
      "8\n",
      "exm5**\n",
      "-3\n",
      "exm6**\n",
      "0\n"
     ]
    }
   ],
   "source": [
    "#function testing with various symbol combinations \n",
    "#EX1\n",
    "print('exm1**')\n",
    "func([\n",
    "  [\"#\", \"!\"],\n",
    "  [\"!!\", \"X\"]\n",
    "             ])\n",
    "\n",
    "#EX2\n",
    "print('exm2**')\n",
    "func([\n",
    "  [\"!!!\", \"O\", \"!\"],\n",
    "  [\"X\", \"#\", \"!!!\"],\n",
    "  [\"!!\", \"X\", \"O\"]])\n",
    "\n",
    "#EX3\n",
    "print('exm3**')\n",
    "func([['X','m'],['!','5'],['!!!','#']])\n",
    "\n",
    "#EX4\n",
    "print('exm4**')\n",
    "func([['#','#'], ['O'],['!!!']])\n",
    "\n",
    "#EX5\n",
    "print('exm5**')\n",
    "func([['#','#','#'], ['!!','!!','!!'], ['!!!','!!!'] ,['X']])\n",
    "\n",
    "#EX6\n",
    "print('exm6**')\n",
    "func([['X','O'],['!','!!'],['!!!','#']])"
   ]
  },
  {
   "cell_type": "markdown",
   "metadata": {},
   "source": [
    "### 2. Create a function that takes a variable number of arguments, each argument representing the number of items in a group, and returns the number of permutations (combinations) of items that you could get by taking one item from each group."
   ]
  },
  {
   "cell_type": "code",
   "execution_count": 3,
   "metadata": {},
   "outputs": [],
   "source": [
    "def vari(*args):\n",
    "    var = 1\n",
    "    for i in args:\n",
    "        var *=i\n",
    "    return var\n",
    "\n"
   ]
  },
  {
   "cell_type": "code",
   "execution_count": 4,
   "metadata": {},
   "outputs": [
    {
     "data": {
      "text/plain": [
       "72"
      ]
     },
     "execution_count": 4,
     "metadata": {},
     "output_type": "execute_result"
    }
   ],
   "source": [
    "#testing vari\n",
    "vari(3,4,6)"
   ]
  },
  {
   "cell_type": "code",
   "execution_count": 5,
   "metadata": {},
   "outputs": [
    {
     "data": {
      "text/plain": [
       "1890"
      ]
     },
     "execution_count": 5,
     "metadata": {},
     "output_type": "execute_result"
    }
   ],
   "source": [
    "vari(45,6,7)"
   ]
  },
  {
   "cell_type": "code",
   "execution_count": 6,
   "metadata": {},
   "outputs": [
    {
     "data": {
      "text/plain": [
       "120"
      ]
     },
     "execution_count": 6,
     "metadata": {},
     "output_type": "execute_result"
    }
   ],
   "source": [
    "vari(2,3,4,5)"
   ]
  },
  {
   "cell_type": "markdown",
   "metadata": {},
   "source": [
    "### 3.Create a function that takes a string as an argument and returns the Morse code equivalent.\n"
   ]
  },
  {
   "cell_type": "code",
   "execution_count": 7,
   "metadata": {},
   "outputs": [],
   "source": [
    "def encode():\n",
    "    string = str(input('enter the text in uppercase:'))\n",
    "    char_to_dots = {\n",
    "    'A': '.-', 'B': '-...', 'C': '-.-.', 'D': '-..', 'E': '.', 'F': '..-.',\n",
    "    'G': '--.', 'H': '....', 'I': '..', 'J': '.---', 'K': '-.-', 'L': '.-..',\n",
    "    'M': '--', 'N': '-.', 'O': '---', 'P': '.--.', 'Q': '--.-', 'R': '.-.',\n",
    "    'S': '...', 'T': '-', 'U': '..-', 'V': '...-', 'W': '.--', 'X': '-..-',\n",
    "    'Y': '-.--', 'Z': '--..', ' ': ' ', '0': '-----',\n",
    "    '1': '.----', '2': '..---', '3': '...--', '4': '....-', '5': '.....',\n",
    "    '6': '-....', '7': '--...', '8': '---..', '9': '----.',\n",
    "    '&': '.-...', \"'\": '.----.', '@': '.--.-.', ')': '-.--.-', '(': '-.--.',\n",
    "    ':': '---...', ',': '--..--', '=': '-...-', '!': '-.-.--', '.': '.-.-.-',\n",
    "    '-': '-....-', '+': '.-.-.', '\"': '.-..-.', '?': '..--..', '/': '-..-.'}\n",
    "    out_list = []\n",
    "    \n",
    "    for i in string:\n",
    "        if i in char_to_dots.keys():\n",
    "            print('encoding...')\n",
    "            out_list.append(char_to_dots[i])\n",
    "        \n",
    "        else:\n",
    "            print('check if all the letter are in uppercase.')\n",
    "            break\n",
    "        \n",
    "    return ''.join(out_list)\n",
    "    \n"
   ]
  },
  {
   "cell_type": "code",
   "execution_count": 8,
   "metadata": {},
   "outputs": [
    {
     "name": "stdin",
     "output_type": "stream",
     "text": [
      "enter the text in uppercase: HELP ME!\n"
     ]
    },
    {
     "name": "stdout",
     "output_type": "stream",
     "text": [
      "encoding...\n",
      "encoding...\n",
      "encoding...\n",
      "encoding...\n",
      "encoding...\n",
      "encoding...\n",
      "encoding...\n",
      "encoding...\n"
     ]
    },
    {
     "data": {
      "text/plain": [
       "'......-...--. --.-.-.--'"
      ]
     },
     "execution_count": 8,
     "metadata": {},
     "output_type": "execute_result"
    }
   ],
   "source": [
    "encode()"
   ]
  },
  {
   "cell_type": "markdown",
   "metadata": {},
   "source": [
    "### 4.  Write a function that takes a number and returns True if it's a prime; False otherwise. The number can be 2^64-1 (2 to the power of 63, not XOR). With the standard technique it would be O(2^64-1), which is much too large for the 10 second time limit."
   ]
  },
  {
   "cell_type": "code",
   "execution_count": 9,
   "metadata": {},
   "outputs": [],
   "source": [
    "def prime(num):\n",
    "    i = 2\n",
    "    while i * i <= num:\n",
    "        if num%i == 0:\n",
    "            return False\n",
    "        i += 1\n",
    "    return True\n",
    "    "
   ]
  },
  {
   "cell_type": "code",
   "execution_count": 10,
   "metadata": {},
   "outputs": [
    {
     "data": {
      "text/plain": [
       "False"
      ]
     },
     "execution_count": 10,
     "metadata": {},
     "output_type": "execute_result"
    }
   ],
   "source": [
    "prime(20)"
   ]
  },
  {
   "cell_type": "code",
   "execution_count": 11,
   "metadata": {},
   "outputs": [
    {
     "data": {
      "text/plain": [
       "True"
      ]
     },
     "execution_count": 11,
     "metadata": {},
     "output_type": "execute_result"
    }
   ],
   "source": [
    "prime(911)"
   ]
  },
  {
   "cell_type": "code",
   "execution_count": 12,
   "metadata": {},
   "outputs": [
    {
     "data": {
      "text/plain": [
       "False"
      ]
     },
     "execution_count": 12,
     "metadata": {},
     "output_type": "execute_result"
    }
   ],
   "source": [
    "prime(5151512515524)"
   ]
  },
  {
   "cell_type": "markdown",
   "metadata": {},
   "source": [
    "### 5.  Create a function that converts a word to a bitstring and then to a boolean list based on the following criteria:"
   ]
  },
  {
   "cell_type": "code",
   "execution_count": 13,
   "metadata": {},
   "outputs": [],
   "source": [
    "import string"
   ]
  },
  {
   "cell_type": "code",
   "execution_count": 14,
   "metadata": {},
   "outputs": [],
   "source": [
    "def word_bit(word):\n",
    "    a = list(string.ascii_letters)\n",
    "    bit = []\n",
    "    for i in word:\n",
    "        if i in a:\n",
    "            idx = (a.index(i))+1\n",
    "            if idx%2 == 0:\n",
    "                bit.append(0)\n",
    "            else:\n",
    "                bit.append(1)\n",
    "    out_list = []\n",
    "\n",
    "    for i in bit:\n",
    "        if i == 1:\n",
    "            out_list.append(True)\n",
    "            \n",
    "        else:\n",
    "            out_list.append(False)\n",
    "    \n",
    "    return  out_list"
   ]
  },
  {
   "cell_type": "code",
   "execution_count": 15,
   "metadata": {},
   "outputs": [
    {
     "name": "stdout",
     "output_type": "stream",
     "text": [
      "[False, True, True, False]\n",
      "[False, True, False, True, True]\n",
      "[False, True, True, False]\n"
     ]
    }
   ],
   "source": [
    "print(word_bit('tesh'))\n",
    "print(word_bit('loves'))\n",
    "print(word_bit('deep'))"
   ]
  }
 ],
 "metadata": {
  "kernelspec": {
   "display_name": "Python 3",
   "language": "python",
   "name": "python3"
  },
  "language_info": {
   "codemirror_mode": {
    "name": "ipython",
    "version": 3
   },
   "file_extension": ".py",
   "mimetype": "text/x-python",
   "name": "python",
   "nbconvert_exporter": "python",
   "pygments_lexer": "ipython3",
   "version": "3.8.3"
  }
 },
 "nbformat": 4,
 "nbformat_minor": 4
}
